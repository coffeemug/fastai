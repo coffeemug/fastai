{
  "nbformat": 4,
  "nbformat_minor": 0,
  "metadata": {
    "colab": {
      "provenance": [],
      "authorship_tag": "ABX9TyO//CAxNH9aIEkjK3PmLhGP",
      "include_colab_link": true
    },
    "kernelspec": {
      "name": "python3",
      "display_name": "Python 3"
    },
    "language_info": {
      "name": "python"
    }
  },
  "cells": [
    {
      "cell_type": "markdown",
      "metadata": {
        "id": "view-in-github",
        "colab_type": "text"
      },
      "source": [
        "<a href=\"https://colab.research.google.com/github/coffeemug/fastai/blob/master/02-mnist-torch.ipynb\" target=\"_parent\"><img src=\"https://colab.research.google.com/assets/colab-badge.svg\" alt=\"Open In Colab\"/></a>"
      ]
    },
    {
      "cell_type": "markdown",
      "source": [
        "# Loading and displaying MNIST images"
      ],
      "metadata": {
        "id": "21uicfA9OkE-"
      }
    },
    {
      "cell_type": "code",
      "source": [
        "MNIST_URL='https://github.com/mnielsen/neural-networks-and-deep-learning/blob/master/data/mnist.pkl.gz?raw=true'\n"
      ],
      "metadata": {
        "id": "Qw6dSf-dpq-2"
      },
      "execution_count": 9,
      "outputs": []
    },
    {
      "cell_type": "code",
      "source": [
        "from pathlib import Path\n",
        "from urllib.request import urlretrieve\n",
        "import gzip, pickle\n",
        "\n",
        "def load_data(url):\n",
        "  dir = Path('data')\n",
        "  dir.mkdir(exist_ok=True)\n",
        "\n",
        "  filepath = dir/'mnist.pkl.gz'\n",
        "  if not filepath.exists():\n",
        "    urlretrieve(url, filepath)\n",
        "\n",
        "  with gzip.open(filepath, 'rb') as f:\n",
        "     return pickle.load(f, encoding='latin-1')\n",
        "\n",
        "def load_mnist():\n",
        "  return load_data(MNIST_URL)"
      ],
      "metadata": {
        "id": "IFB-tmCVrQS-"
      },
      "execution_count": 34,
      "outputs": []
    },
    {
      "cell_type": "code",
      "source": [
        "((x_train, y_train), (x_valid, y_valid), _) = load_mnist()"
      ],
      "metadata": {
        "id": "4kONDskZp99v"
      },
      "execution_count": 52,
      "outputs": []
    },
    {
      "cell_type": "code",
      "source": [
        "from itertools import islice\n",
        "\n",
        "def unflat(vector, step):\n",
        "  it = iter(vector)\n",
        "  return list(iter(lambda: list(islice(it, step)), []))\n"
      ],
      "metadata": {
        "id": "at9Cg-kYqBNJ"
      },
      "execution_count": 36,
      "outputs": []
    },
    {
      "cell_type": "code",
      "source": [
        "import matplotlib as mpl, matplotlib.pyplot as plt\n",
        "\n",
        "def show_image(x):\n",
        "  mpl.rcParams['image.cmap'] = 'gray'\n",
        "  plt.imshow(unflat(x, 28));"
      ],
      "metadata": {
        "id": "0mVAV4xds40J"
      },
      "execution_count": 37,
      "outputs": []
    },
    {
      "cell_type": "code",
      "source": [
        "show_image(x_train[1])\n"
      ],
      "metadata": {
        "id": "WVwuFUMnugNI"
      },
      "execution_count": null,
      "outputs": []
    },
    {
      "cell_type": "markdown",
      "source": [
        "# Torch"
      ],
      "metadata": {
        "id": "UbopDCBjvqar"
      }
    },
    {
      "cell_type": "code",
      "source": [
        "import torch\n",
        "from torch import tensor\n",
        "\n",
        "(x_train, y_train, x_valid, y_valid) = map(tensor, (x_train, y_train, x_valid, y_valid))\n",
        "(x_train, x_valid) = map(lambda t: t.reshape(-1, 28, 28), (x_train, x_valid))"
      ],
      "metadata": {
        "id": "lTjuLBDEvr24"
      },
      "execution_count": 54,
      "outputs": []
    },
    {
      "cell_type": "code",
      "source": [
        "torch.rand(5, 5)"
      ],
      "metadata": {
        "id": "4vYb93HqxXcN",
        "outputId": "d7e23cfb-6617-4918-c7c7-5f7fac8b251d",
        "colab": {
          "base_uri": "https://localhost:8080/"
        }
      },
      "execution_count": 59,
      "outputs": [
        {
          "output_type": "execute_result",
          "data": {
            "text/plain": [
              "tensor([[0.9848, 0.4951, 0.4621, 0.9256, 0.7173],\n",
              "        [0.9051, 0.7110, 0.7110, 0.7542, 0.8773],\n",
              "        [0.0981, 0.6447, 0.0035, 0.2289, 0.0401],\n",
              "        [0.1394, 0.5047, 0.6462, 0.0939, 0.9875],\n",
              "        [0.3485, 0.9037, 0.1159, 0.5933, 0.4282]])"
            ]
          },
          "metadata": {},
          "execution_count": 59
        }
      ]
    },
    {
      "cell_type": "code",
      "source": [
        "plt.imshow(torch.rand(28, 28))"
      ],
      "metadata": {
        "id": "2O6iWIV1xYkv",
        "outputId": "3dfa3856-5895-4845-b002-d9d23cb18a34",
        "colab": {
          "base_uri": "https://localhost:8080/",
          "height": 448
        }
      },
      "execution_count": 60,
      "outputs": [
        {
          "output_type": "execute_result",
          "data": {
            "text/plain": [
              "<matplotlib.image.AxesImage at 0x7a43d5399ab0>"
            ]
          },
          "metadata": {},
          "execution_count": 60
        },
        {
          "output_type": "display_data",
          "data": {
            "text/plain": [
              "<Figure size 640x480 with 1 Axes>"
            ],
            "image/png": "[encoded data removed]"
          },
          "metadata": {}
        }
      ]
    },
    {
      "cell_type": "code",
      "source": [],
      "metadata": {
        "id": "BhPnt5_NxhSR"
      },
      "execution_count": null,
      "outputs": []
    }
  ]
}
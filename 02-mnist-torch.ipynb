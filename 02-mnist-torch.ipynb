{
  "nbformat": 4,
  "nbformat_minor": 0,
  "metadata": {
    "colab": {
      "provenance": [],
      "authorship_tag": "ABX9TyPZ4kCg1cS5EYP9yZ4xlVea",
      "include_colab_link": true
    },
    "kernelspec": {
      "name": "python3",
      "display_name": "Python 3"
    },
    "language_info": {
      "name": "python"
    }
  },
  "cells": [
    {
      "cell_type": "markdown",
      "metadata": {
        "id": "view-in-github",
        "colab_type": "text"
      },
      "source": [
        "<a href=\"https://colab.research.google.com/github/coffeemug/fastai/blob/master/02-mnist-torch.ipynb\" target=\"_parent\"><img src=\"https://colab.research.google.com/assets/colab-badge.svg\" alt=\"Open In Colab\"/></a>"
      ]
    },
    {
      "cell_type": "markdown",
      "source": [
        "# Loading and displaying MNIST images"
      ],
      "metadata": {
        "id": "21uicfA9OkE-"
      }
    },
    {
      "cell_type": "code",
      "source": [
        "MNIST_URL='https://github.com/mnielsen/neural-networks-and-deep-learning/blob/master/data/mnist.pkl.gz?raw=true'\n"
      ],
      "metadata": {
        "id": "Qw6dSf-dpq-2"
      },
      "execution_count": 9,
      "outputs": []
    },
    {
      "cell_type": "code",
      "source": [
        "from pathlib import Path\n",
        "from urllib.request import urlretrieve\n",
        "import gzip, pickle\n",
        "\n",
        "def load_data(url):\n",
        "  dir = Path('data')\n",
        "  dir.mkdir(exist_ok=True)\n",
        "\n",
        "  filepath = dir/'mnist.pkl.gz'\n",
        "  if not filepath.exists():\n",
        "    urlretrieve(url, filepath)\n",
        "\n",
        "  with gzip.open(filepath, 'rb') as f:\n",
        "     return pickle.load(f, encoding='latin-1')\n",
        "\n",
        "def load_mnist():\n",
        "  return load_data(MNIST_URL)"
      ],
      "metadata": {
        "id": "IFB-tmCVrQS-"
      },
      "execution_count": 34,
      "outputs": []
    },
    {
      "cell_type": "code",
      "source": [
        "((x_train, y_train), (x_valid, y_valid), _) = load_mnist()"
      ],
      "metadata": {
        "id": "4kONDskZp99v"
      },
      "execution_count": 35,
      "outputs": []
    },
    {
      "cell_type": "code",
      "source": [
        "from itertools import islice\n",
        "\n",
        "def unflat(vector, step):\n",
        "  it = iter(vector)\n",
        "  return list(iter(lambda: list(islice(it, step)), []))\n"
      ],
      "metadata": {
        "id": "at9Cg-kYqBNJ"
      },
      "execution_count": 36,
      "outputs": []
    },
    {
      "cell_type": "code",
      "source": [
        "import matplotlib as mpl, matplotlib.pyplot as plt\n",
        "\n",
        "def show_image(x):\n",
        "  mpl.rcParams['image.cmap'] = 'gray'\n",
        "  plt.imshow(unflat(x, 28));"
      ],
      "metadata": {
        "id": "0mVAV4xds40J"
      },
      "execution_count": 37,
      "outputs": []
    },
    {
      "cell_type": "code",
      "source": [
        "show_image(x_train[1])\n"
      ],
      "metadata": {
        "id": "WVwuFUMnugNI"
      },
      "execution_count": null,
      "outputs": []
    },
    {
      "cell_type": "code",
      "source": [],
      "metadata": {
        "id": "1HIEbnrzunGZ"
      },
      "execution_count": null,
      "outputs": []
    }
  ]
}